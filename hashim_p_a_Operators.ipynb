{
  "nbformat": 4,
  "nbformat_minor": 0,
  "metadata": {
    "colab": {
      "provenance": []
    },
    "kernelspec": {
      "name": "python3",
      "display_name": "Python 3"
    },
    "language_info": {
      "name": "python"
    }
  },
  "cells": [
    {
      "cell_type": "code",
      "execution_count": null,
      "metadata": {
        "colab": {
          "base_uri": "https://localhost:8080/"
        },
        "id": "VCRG8KbFa5t5",
        "outputId": "b598d44b-6974-4786-f24d-68875bbdcea7"
      },
      "outputs": [
        {
          "output_type": "stream",
          "name": "stdout",
          "text": [
            "Enter the radius of a circle:10\n",
            "the area of a circle = 314.0\n"
          ]
        }
      ],
      "source": [
        "#python1\n",
        "'''Write a Python program to find the area of a circle with a given radius\n",
        "using the formula area = pi * r ** 2. Assume that pi is 3.14.'''\n",
        "radius=int(input('Enter the radius of a circle:'))\n",
        "area=3.14*radius**2\n",
        "print('the area of a circle =',area)\n",
        "\n"
      ]
    },
    {
      "cell_type": "code",
      "source": [
        "#python2\n",
        "'''Write a Python program to convert Celsius to Fahrenheit using the\n",
        "formula F = (C * 9/5) + 32.'''\n",
        "c =float(input(\"Enter the celsius:\"))\n",
        "f = (c * 9/5) + 32\n",
        "print(\"The temperature in Fahrenheit is:\", f)"
      ],
      "metadata": {
        "colab": {
          "base_uri": "https://localhost:8080/"
        },
        "id": "vuWekd1iduLk",
        "outputId": "c4949376-929f-4e63-d66c-1b6ea8b994ee"
      },
      "execution_count": null,
      "outputs": [
        {
          "output_type": "stream",
          "name": "stdout",
          "text": [
            "Enter the celsius:25\n",
            "The temperature in Fahrenheit is: 77.0\n"
          ]
        }
      ]
    },
    {
      "cell_type": "code",
      "source": [
        "#python3\n",
        "'''Write a Python program to find the quotient and remainder of two\n",
        "numbers using the division operator / and the modulo operator %.'''\n",
        "n1=int(input('Enter the first number:'))\n",
        "n2=int(input('Enter the second number:'))\n",
        "quotient=n1//n2\n",
        "remainder=n1%n2\n",
        "print('the quotient of',n1,'and',n2,'is',quotient)\n",
        "print('the remainder of',n1,'and',n2,'is',remainder)"
      ],
      "metadata": {
        "colab": {
          "base_uri": "https://localhost:8080/"
        },
        "id": "2YObUvZte01H",
        "outputId": "c646b9b6-d4af-40ac-c8ef-78fddfae96c2"
      },
      "execution_count": null,
      "outputs": [
        {
          "output_type": "stream",
          "name": "stdout",
          "text": [
            "Enter the first number:10\n",
            "Enter the second number:3\n",
            "the quotient of 10 and 3 is 3\n",
            "the remainder of 10 and 3 is 1\n"
          ]
        }
      ]
    },
    {
      "cell_type": "code",
      "source": [
        "#python4\n",
        "'''Write a Python program to check whether a given number is even or odd\n",
        "using the modulo operator %'''\n",
        "number=int(input('Enter the number:'))\n",
        "if number % 2==0:\n",
        "   print(\"The given number is even\")\n",
        "else:\n",
        "   print(\"The given number is odd\")"
      ],
      "metadata": {
        "colab": {
          "base_uri": "https://localhost:8080/"
        },
        "id": "LFeXyG1Ag0nK",
        "outputId": "eee26ab6-6849-48ef-982f-cd3360fd70e8"
      },
      "execution_count": null,
      "outputs": [
        {
          "output_type": "stream",
          "name": "stdout",
          "text": [
            "Enter the number:5\n",
            "The given number is odd\n"
          ]
        }
      ]
    },
    {
      "cell_type": "code",
      "source": [
        "#python5\n",
        "'''Write a Python program to calculate the average of three numbers\n",
        "entered by the user'''\n",
        "n1=int(input(\"Enter the first number:\"))\n",
        "n2=int(input(\"Enter the second number:\"))\n",
        "n3=int(input(\"Enter the therd number:\"))\n",
        "avg=(n1+n2+n3)/3\n",
        "print('avarage of the three numbers is:',avg)"
      ],
      "metadata": {
        "colab": {
          "base_uri": "https://localhost:8080/"
        },
        "id": "kg3uTGFaiNT7",
        "outputId": "5453262e-a5b2-4718-dc7d-0d300af10acb"
      },
      "execution_count": null,
      "outputs": [
        {
          "output_type": "stream",
          "name": "stdout",
          "text": [
            "Enter the first number:2\n",
            "Enter the second number:2\n",
            "Enter the therd number:2\n",
            "avarage of the three numbers is: 2.0\n"
          ]
        }
      ]
    },
    {
      "cell_type": "code",
      "source": [
        "#python6\n",
        "'''Write a Python program to swap two variables without using a\n",
        "temporary variable.'''\n",
        "v1=int(input('Enter the intiger ONE:'))\n",
        "v2=int(input('Enter the intiger TWO:'))\n",
        "v1=v1+v2\n",
        "v2=v1-v2\n",
        "v1=v1-v2\n",
        "print('The value of v1 is now =',v1)\n",
        "print('The value of v2 is now =',v2)"
      ],
      "metadata": {
        "id": "Dk7bPWj4jcdM",
        "colab": {
          "base_uri": "https://localhost:8080/"
        },
        "outputId": "89860e58-f96d-427e-dd29-97ba42221f3b"
      },
      "execution_count": null,
      "outputs": [
        {
          "output_type": "stream",
          "name": "stdout",
          "text": [
            "Enter the intiger 1:3\n",
            "Enter the intiger 2:5\n",
            "The value of v1 is now = 5\n",
            "The value of v2 is now = 3\n"
          ]
        }
      ]
    },
    {
      "cell_type": "code",
      "source": [
        "#python7\n",
        "'''Write a Python program to calculate the area of a rectangle with given\n",
        "length and breadth.'''\n",
        "length=int(input('Enter the length of the rectangle '))\n",
        "breadth=int(input('Enter the breadth of the rectangle '))\n",
        "area=length*breadth\n",
        "print('area of a rectangle is',area)"
      ],
      "metadata": {
        "id": "TYkvP3VZ81fO",
        "colab": {
          "base_uri": "https://localhost:8080/"
        },
        "outputId": "5f7cfdb4-6a8c-4c5c-b834-3f4966c21306"
      },
      "execution_count": 1,
      "outputs": [
        {
          "output_type": "stream",
          "name": "stdout",
          "text": [
            "Enter the length of the rectangle 10\n",
            "Enter the breadth of the rectangle 10\n",
            "area of a rectangle is 100\n"
          ]
        }
      ]
    },
    {
      "cell_type": "code",
      "source": [
        "#python8\n",
        "'''Write a Python program to calculate the sum of the digits of a three-digit\n",
        "number.'''\n",
        "digit = int(input(\"Enter the three digit number:\"))\n",
        "if 99 < digit < 1000:\n",
        "  sum= digit % 10 + (digit // 10) % 10 + digit // 100\n",
        "  print(\"The sum of the digits of the number is\", sum)\n",
        "else:\n",
        "    print(\"Please enter a valid three-digit number.\")"
      ],
      "metadata": {
        "id": "odlWXC-2N0lq",
        "colab": {
          "base_uri": "https://localhost:8080/"
        },
        "outputId": "90874e37-0f35-4c2b-c21e-9b39be1d581a"
      },
      "execution_count": null,
      "outputs": [
        {
          "output_type": "stream",
          "name": "stdout",
          "text": [
            "\n",
            "\t\t\tsum of three digit number\n",
            "\n",
            "Enter the first number333\n",
            "Enter the second number333\n",
            "Enter the theard number333\n",
            "sum of  333 , 333 and 333 is 999\n"
          ]
        }
      ]
    },
    {
      "cell_type": "code",
      "source": [
        "#python9\n",
        "'''. Write a Python program to check whether a given year is a leap year or\n",
        "not.'''\n",
        "yr=int(input(\"Enter a year:\"))\n",
        "if yr%4==0 and yr%100 !=0 or yr%400==0:\n",
        "  print(yr,\"is a leap year\")\n",
        "else:\n",
        "  print(yr,\"is not a leap year\")"
      ],
      "metadata": {
        "colab": {
          "base_uri": "https://localhost:8080/"
        },
        "id": "YJm5GrfZunW5",
        "outputId": "ecc7ece1-94a5-4d09-e77a-33f898cfbc24"
      },
      "execution_count": null,
      "outputs": [
        {
          "output_type": "stream",
          "name": "stdout",
          "text": [
            "Enter a year:2023\n",
            "2023 is not a leap year\n"
          ]
        }
      ]
    },
    {
      "cell_type": "code",
      "source": [
        "#python10\n",
        "'''Write a Python program to find the maximum and minimum of two numbers entered by the user.'''\n",
        "n1=int(input(\"Enter the first number:\"))\n",
        "n2=int(input(\"Enter the second number:\"))\n",
        "if n1>n2:\n",
        "  max=n1\n",
        "  min=n2\n",
        "else:\n",
        "  max=n2\n",
        "  min=n1\n",
        "print(\"The maximum of\",n1,\"and\",n2,\"is:\",max)\n",
        "print(\"The minimum of\",n1,\"and\",n2,\"is:\",min)"
      ],
      "metadata": {
        "colab": {
          "base_uri": "https://localhost:8080/"
        },
        "id": "s_UIChBD0a8b",
        "outputId": "ef242b99-c6db-4178-baa5-75e83c0aa9a2"
      },
      "execution_count": null,
      "outputs": [
        {
          "output_type": "stream",
          "name": "stdout",
          "text": [
            "Enter the first number:56\n",
            "Enter the second number:84\n",
            "The maximum of 56 and 84 is: 84\n",
            "The minimum of 56 and 84 is: 56\n"
          ]
        }
      ]
    }
  ]
}